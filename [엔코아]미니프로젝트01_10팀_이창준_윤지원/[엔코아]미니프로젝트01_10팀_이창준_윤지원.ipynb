{
 "cells": [
  {
   "cell_type": "markdown",
   "id": "ea274e13",
   "metadata": {},
   "source": [
    "#  1. 데이터 획득 (크롤링)"
   ]
  },
  {
   "cell_type": "markdown",
   "id": "46c0a179",
   "metadata": {},
   "source": [
    "##### (1) 당일 지역별 코로나 누적확진자수 및 신규확진자수"
   ]
  },
  {
   "cell_type": "code",
   "execution_count": 1,
   "id": "edbd43a1",
   "metadata": {},
   "outputs": [],
   "source": [
    "from bs4 import BeautifulSoup\n",
    "import requests\n",
    "from selenium import webdriver\n",
    "import pandas as pd"
   ]
  },
  {
   "cell_type": "code",
   "execution_count": 2,
   "id": "5c8201c2",
   "metadata": {},
   "outputs": [],
   "source": [
    "browser = webdriver.Chrome('./chromedriver.exe')\n",
    "url = 'https://search.naver.com/search.naver?query=%EC%BD%94%EB%A1%9C%EB%82%98+%ED%98%84%ED%99%A9&ie=utf8&sm=whl_nht'\n",
    "browser.get(url)\n",
    "html = browser.page_source\n",
    "soup = BeautifulSoup(html, 'html.parser')"
   ]
  },
  {
   "cell_type": "code",
   "execution_count": 3,
   "id": "7ae902d9",
   "metadata": {},
   "outputs": [],
   "source": [
    "section = soup.select('tbody > tr')\n",
    "section = list(section)"
   ]
  },
  {
   "cell_type": "code",
   "execution_count": 4,
   "id": "80b2771e",
   "metadata": {},
   "outputs": [
    {
     "data": {
      "text/plain": [
       "[['서울', '76814', '569'],\n",
       " ['경기', '68671', '513'],\n",
       " ['대구', '13287', '95'],\n",
       " ['인천', '11406', '102'],\n",
       " ['부산', '11077', '78'],\n",
       " ['경남', '9683', '68'],\n",
       " ['경북', '6866', '64'],\n",
       " ['충남', '6639', '92'],\n",
       " ['검역', '5761', '23'],\n",
       " ['대전', '5463', '50'],\n",
       " ['강원', '5268', '26'],\n",
       " ['충북', '4991', '38'],\n",
       " ['울산', '4037', '40'],\n",
       " ['광주', '3948', '28'],\n",
       " ['전북', '3441', '45'],\n",
       " ['제주', '2524', '30'],\n",
       " ['전남', '2487', '8'],\n",
       " ['세종', '954', '10'],\n",
       " ['미국', '38040498', '146,791'],\n",
       " ['인도', '32512366', '37,593'],\n",
       " ['브라질', '20645537', '30,671'],\n",
       " ['러시아', '6709605', '18,972'],\n",
       " ['영국', '6601149', '35,584'],\n",
       " ['프랑스', '6538328', '20,857'],\n",
       " ['터키', '6273651', '19,970'],\n",
       " ['아르헨티나', '5155079', '6,994']]"
      ]
     },
     "execution_count": 4,
     "metadata": {},
     "output_type": "execute_result"
    }
   ],
   "source": [
    "data_list = [[sub_section.select('span')[0].text.strip(),\n",
    "              sub_section.select('span')[1].text.replace(\",\",\"\"),\n",
    "              sub_section.select('span.confirmed_case')[0].text\n",
    "              ] for num, sub_section in enumerate(section)]\n",
    "\n",
    "data_list"
   ]
  },
  {
   "cell_type": "code",
   "execution_count": 5,
   "id": "bee86f6c",
   "metadata": {},
   "outputs": [
    {
     "data": {
      "text/html": [
       "<div>\n",
       "<style scoped>\n",
       "    .dataframe tbody tr th:only-of-type {\n",
       "        vertical-align: middle;\n",
       "    }\n",
       "\n",
       "    .dataframe tbody tr th {\n",
       "        vertical-align: top;\n",
       "    }\n",
       "\n",
       "    .dataframe thead th {\n",
       "        text-align: right;\n",
       "    }\n",
       "</style>\n",
       "<table border=\"1\" class=\"dataframe\">\n",
       "  <thead>\n",
       "    <tr style=\"text-align: right;\">\n",
       "      <th></th>\n",
       "      <th>지역</th>\n",
       "      <th>누적확진자</th>\n",
       "      <th>신규확진자</th>\n",
       "    </tr>\n",
       "  </thead>\n",
       "  <tbody>\n",
       "    <tr>\n",
       "      <th>21</th>\n",
       "      <td>러시아</td>\n",
       "      <td>6709605</td>\n",
       "      <td>18,972</td>\n",
       "    </tr>\n",
       "    <tr>\n",
       "      <th>22</th>\n",
       "      <td>영국</td>\n",
       "      <td>6601149</td>\n",
       "      <td>35,584</td>\n",
       "    </tr>\n",
       "    <tr>\n",
       "      <th>23</th>\n",
       "      <td>프랑스</td>\n",
       "      <td>6538328</td>\n",
       "      <td>20,857</td>\n",
       "    </tr>\n",
       "    <tr>\n",
       "      <th>24</th>\n",
       "      <td>터키</td>\n",
       "      <td>6273651</td>\n",
       "      <td>19,970</td>\n",
       "    </tr>\n",
       "    <tr>\n",
       "      <th>25</th>\n",
       "      <td>아르헨티나</td>\n",
       "      <td>5155079</td>\n",
       "      <td>6,994</td>\n",
       "    </tr>\n",
       "  </tbody>\n",
       "</table>\n",
       "</div>"
      ],
      "text/plain": [
       "       지역    누적확진자   신규확진자\n",
       "21    러시아  6709605  18,972\n",
       "22     영국  6601149  35,584\n",
       "23    프랑스  6538328  20,857\n",
       "24     터키  6273651  19,970\n",
       "25  아르헨티나  5155079   6,994"
      ]
     },
     "execution_count": 5,
     "metadata": {},
     "output_type": "execute_result"
    }
   ],
   "source": [
    "columns = ['지역', '누적확진자', '신규확진자']\n",
    "df_area = pd.DataFrame(data_list, columns = columns)\n",
    "\n",
    "df_area.tail()"
   ]
  },
  {
   "cell_type": "code",
   "execution_count": 7,
   "id": "fac634cf",
   "metadata": {
    "scrolled": true
   },
   "outputs": [
    {
     "data": {
      "text/html": [
       "<div>\n",
       "<style scoped>\n",
       "    .dataframe tbody tr th:only-of-type {\n",
       "        vertical-align: middle;\n",
       "    }\n",
       "\n",
       "    .dataframe tbody tr th {\n",
       "        vertical-align: top;\n",
       "    }\n",
       "\n",
       "    .dataframe thead th {\n",
       "        text-align: right;\n",
       "    }\n",
       "</style>\n",
       "<table border=\"1\" class=\"dataframe\">\n",
       "  <thead>\n",
       "    <tr style=\"text-align: right;\">\n",
       "      <th></th>\n",
       "      <th>지역</th>\n",
       "      <th>누적확진자</th>\n",
       "      <th>신규확진자</th>\n",
       "    </tr>\n",
       "  </thead>\n",
       "  <tbody>\n",
       "    <tr>\n",
       "      <th>0</th>\n",
       "      <td>서울</td>\n",
       "      <td>76814</td>\n",
       "      <td>569</td>\n",
       "    </tr>\n",
       "    <tr>\n",
       "      <th>1</th>\n",
       "      <td>경기</td>\n",
       "      <td>68671</td>\n",
       "      <td>513</td>\n",
       "    </tr>\n",
       "    <tr>\n",
       "      <th>2</th>\n",
       "      <td>대구</td>\n",
       "      <td>13287</td>\n",
       "      <td>95</td>\n",
       "    </tr>\n",
       "    <tr>\n",
       "      <th>3</th>\n",
       "      <td>인천</td>\n",
       "      <td>11406</td>\n",
       "      <td>102</td>\n",
       "    </tr>\n",
       "    <tr>\n",
       "      <th>4</th>\n",
       "      <td>부산</td>\n",
       "      <td>11077</td>\n",
       "      <td>78</td>\n",
       "    </tr>\n",
       "    <tr>\n",
       "      <th>5</th>\n",
       "      <td>경남</td>\n",
       "      <td>9683</td>\n",
       "      <td>68</td>\n",
       "    </tr>\n",
       "    <tr>\n",
       "      <th>6</th>\n",
       "      <td>경북</td>\n",
       "      <td>6866</td>\n",
       "      <td>64</td>\n",
       "    </tr>\n",
       "    <tr>\n",
       "      <th>7</th>\n",
       "      <td>충남</td>\n",
       "      <td>6639</td>\n",
       "      <td>92</td>\n",
       "    </tr>\n",
       "    <tr>\n",
       "      <th>8</th>\n",
       "      <td>검역</td>\n",
       "      <td>5761</td>\n",
       "      <td>23</td>\n",
       "    </tr>\n",
       "    <tr>\n",
       "      <th>9</th>\n",
       "      <td>대전</td>\n",
       "      <td>5463</td>\n",
       "      <td>50</td>\n",
       "    </tr>\n",
       "    <tr>\n",
       "      <th>10</th>\n",
       "      <td>강원</td>\n",
       "      <td>5268</td>\n",
       "      <td>26</td>\n",
       "    </tr>\n",
       "    <tr>\n",
       "      <th>11</th>\n",
       "      <td>충북</td>\n",
       "      <td>4991</td>\n",
       "      <td>38</td>\n",
       "    </tr>\n",
       "    <tr>\n",
       "      <th>12</th>\n",
       "      <td>울산</td>\n",
       "      <td>4037</td>\n",
       "      <td>40</td>\n",
       "    </tr>\n",
       "    <tr>\n",
       "      <th>13</th>\n",
       "      <td>광주</td>\n",
       "      <td>3948</td>\n",
       "      <td>28</td>\n",
       "    </tr>\n",
       "    <tr>\n",
       "      <th>14</th>\n",
       "      <td>전북</td>\n",
       "      <td>3441</td>\n",
       "      <td>45</td>\n",
       "    </tr>\n",
       "    <tr>\n",
       "      <th>15</th>\n",
       "      <td>제주</td>\n",
       "      <td>2524</td>\n",
       "      <td>30</td>\n",
       "    </tr>\n",
       "    <tr>\n",
       "      <th>16</th>\n",
       "      <td>전남</td>\n",
       "      <td>2487</td>\n",
       "      <td>8</td>\n",
       "    </tr>\n",
       "    <tr>\n",
       "      <th>17</th>\n",
       "      <td>세종</td>\n",
       "      <td>954</td>\n",
       "      <td>10</td>\n",
       "    </tr>\n",
       "  </tbody>\n",
       "</table>\n",
       "</div>"
      ],
      "text/plain": [
       "    지역  누적확진자 신규확진자\n",
       "0   서울  76814   569\n",
       "1   경기  68671   513\n",
       "2   대구  13287    95\n",
       "3   인천  11406   102\n",
       "4   부산  11077    78\n",
       "5   경남   9683    68\n",
       "6   경북   6866    64\n",
       "7   충남   6639    92\n",
       "8   검역   5761    23\n",
       "9   대전   5463    50\n",
       "10  강원   5268    26\n",
       "11  충북   4991    38\n",
       "12  울산   4037    40\n",
       "13  광주   3948    28\n",
       "14  전북   3441    45\n",
       "15  제주   2524    30\n",
       "16  전남   2487     8\n",
       "17  세종    954    10"
      ]
     },
     "execution_count": 7,
     "metadata": {},
     "output_type": "execute_result"
    }
   ],
   "source": [
    "overseas = ['미국', '인도', '브라질', '러시아', '영국',\n",
    "            '프랑스','터키','아르헨티나']\n",
    "\n",
    "condition = df_area.지역.isin(overseas) == False\n",
    "df_area = df_area[condition]\n",
    "df_area['지역'].unique\n",
    "\n",
    "df_area"
   ]
  },
  {
   "cell_type": "markdown",
   "id": "6ac23146",
   "metadata": {},
   "source": [
    "##### (2) 최근 7일간 국내발생 및 해외유입 코로나 신규확진자수 "
   ]
  },
  {
   "cell_type": "markdown",
   "id": "8db8c3d8",
   "metadata": {},
   "source": [
    " - 1차:  HTML 구조 파학 --> 실패\n",
    " - 2차:  CSS 접근       --> 실패\n",
    " - 3차: Listly - Data Scraper 도구 사용\n",
    " ---\n",
    " \n",
    " 추가 스터디 예정: CSS언어, HTML, DOM"
   ]
  },
  {
   "cell_type": "raw",
   "id": "42401522",
   "metadata": {},
   "source": [
    "##### 1차: BeautifulSoup 사용 "
   ]
  },
  {
   "cell_type": "raw",
   "id": "8c8f8658",
   "metadata": {},
   "source": [
    "url =\"https://search.naver.com/search.naver?where=nexearch&sm=top_sug.pre&fbm=0&acr=2&acq=zhfhs&qdt=0&ie=utf8&query=%EC%BD%94%EB%A1%9C%EB%82%98+%ED%99%95%EC%A7%84%EC%9E%90\"\n",
    "res = requests.get(url)\n",
    "res.raise_for_status()\n",
    "\n",
    "soup = BeautifulSoup(res.text, \"lxml\")\n",
    "print(soup.title)\n",
    "print(soup.title.get_text())"
   ]
  },
  {
   "cell_type": "raw",
   "id": "85c3f754",
   "metadata": {},
   "source": [
    "section = soup.select('tbody > tr')\n",
    "section = list(section)"
   ]
  },
  {
   "cell_type": "markdown",
   "id": "0a02eeaa",
   "metadata": {},
   "source": [
    "##### 2차: BeautifulSoup 사용 "
   ]
  },
  {
   "cell_type": "raw",
   "id": "8599bca6",
   "metadata": {},
   "source": [
    "url =\"https://search.naver.com/search.naver?where=nexearch&sm=top_sug.pre&fbm=0&acr=2&acq=zhfhs&qdt=0&ie=utf8&query=%EC%BD%94%EB%A1%9C%EB%82%98+%ED%99%95%EC%A7%84%EC%9E%90\"\n",
    "\n",
    "res = requests.get(url)\n",
    "res.raise_for_status()\n",
    "soup = BeautifulSoup(res.flex, \"text\")"
   ]
  },
  {
   "cell_type": "raw",
   "id": "6f196b44",
   "metadata": {},
   "source": [
    "print(soup.flex)\n",
    "print(soup.flex.get_text())"
   ]
  },
  {
   "cell_type": "markdown",
   "id": "3a19bb76",
   "metadata": {},
   "source": [
    "##### 3차: Listly - Data Scraper 도구 사용"
   ]
  },
  {
   "cell_type": "markdown",
   "id": "aa00bcf7",
   "metadata": {},
   "source": [
    "link: https://chrome.google.com/webstore/detail/listly-data-scraper/ihljmnfgkkmoikgkdkjejbkpdpbmcgeh"
   ]
  },
  {
   "cell_type": "markdown",
   "id": "fd986246",
   "metadata": {},
   "source": [
    "#  2. 데이터 저장"
   ]
  },
  {
   "cell_type": "markdown",
   "id": "01c30b26",
   "metadata": {},
   "source": [
    "##### Excel 저장"
   ]
  },
  {
   "cell_type": "markdown",
   "id": "bba91a20",
   "metadata": {},
   "source": [
    "##### (1) 당일 지역별 코로나 누적확진자수 및 신규확진자수"
   ]
  },
  {
   "cell_type": "code",
   "execution_count": 8,
   "id": "1aba7a17",
   "metadata": {},
   "outputs": [],
   "source": [
    "df_area.to_excel('./covid19_area.xlsx', index = False)"
   ]
  },
  {
   "cell_type": "markdown",
   "id": "dd4d9cf3",
   "metadata": {},
   "source": [
    "##### (2) 최근 7일간 국내발생 및 해외유입 코로나 신규확진자수 "
   ]
  },
  {
   "cell_type": "code",
   "execution_count": null,
   "id": "f41c3dd6",
   "metadata": {},
   "outputs": [],
   "source": [
    "#df_data.to_excel('./covid19_7days.xlsx', index = False)"
   ]
  },
  {
   "cell_type": "raw",
   "id": "c636bc95",
   "metadata": {},
   "source": [
    "- Listly 도구 사용하여 저장 \n",
    "LISTLY_TRIAL_20210826.xlsx 로 대체 합니다."
   ]
  },
  {
   "cell_type": "markdown",
   "id": "d78bcfda",
   "metadata": {},
   "source": [
    "##### 신규DB생성"
   ]
  },
  {
   "cell_type": "code",
   "execution_count": 19,
   "id": "5c1aca66",
   "metadata": {},
   "outputs": [],
   "source": [
    "import pymysql\n",
    "import pandas as pd"
   ]
  },
  {
   "cell_type": "code",
   "execution_count": 20,
   "id": "ea4a929f",
   "metadata": {},
   "outputs": [
    {
     "name": "stdout",
     "output_type": "stream",
     "text": [
      "{'Database': 'employees'}\n",
      "{'Database': 'hanbitdb'}\n",
      "{'Database': 'information_schema'}\n",
      "{'Database': 'modeldb'}\n",
      "{'Database': 'mydb'}\n",
      "{'Database': 'mysql'}\n",
      "{'Database': 'performance_schema'}\n",
      "{'Database': 'projectdb'}\n",
      "{'Database': 'sakila'}\n",
      "{'Database': 'shopdb'}\n",
      "{'Database': 'sqldb'}\n",
      "{'Database': 'sys'}\n",
      "{'Database': 'world'}\n"
     ]
    }
   ],
   "source": [
    "connect = pymysql.connect(host=\"127.0.0.1\", user=\"root\", password=\"1234\",\n",
    "                          charset='utf8',cursorclass=pymysql.cursors.DictCursor)\n",
    "try:\n",
    "    cur = connect.cursor()                                    \n",
    "    \n",
    "    cur.execute(\"DROP DATABASE IF EXISTS projectDB\")\n",
    "    cur.execute(\"CREATE DATABASE projectDB\")\n",
    "\n",
    "    cur.execute(\"SHOW DATABASES\")\n",
    "\n",
    "    db_list = cur.fetchall()\n",
    "\n",
    "    for db in db_list:\n",
    "        print(db)\n",
    "        \n",
    "except Exception as e:\n",
    "    print(\"Exeception occured:{}\".format(e))\n",
    "\n",
    "# finally:\n",
    "#     connect.close()"
   ]
  },
  {
   "cell_type": "markdown",
   "id": "08be3af0",
   "metadata": {},
   "source": [
    "##### (1) 당일 지역별 코로나 누적확진자수 및 신규확진자수"
   ]
  },
  {
   "cell_type": "markdown",
   "id": "5c80c013",
   "metadata": {},
   "source": [
    "##### TABLE 생성"
   ]
  },
  {
   "cell_type": "code",
   "execution_count": 28,
   "id": "800addf8",
   "metadata": {},
   "outputs": [],
   "source": [
    "connect = pymysql.connect(host=\"127.0.0.1\", user=\"root\", password=\"1234\",\n",
    "                          charset='utf8',cursorclass=pymysql.cursors.DictCursor)"
   ]
  },
  {
   "cell_type": "code",
   "execution_count": 29,
   "id": "5277cab8",
   "metadata": {},
   "outputs": [
    {
     "name": "stdout",
     "output_type": "stream",
     "text": [
      "{'Tables_in_projectdb': 'covid19'}\n"
     ]
    }
   ],
   "source": [
    "try:\n",
    "\n",
    "    cur = connect.cursor() \n",
    "    cur.execute(\"USE projectDB\")\n",
    "    cur.execute(\"DROP TABLE IF EXISTS covid19\")\n",
    "    cur.execute(\"CREATE TABLE IF NOT EXISTS covid19(city VARCHAR(10), acc_num INT, new_num INT)\")\n",
    "    cur.execute(\"SHOW TABLES\")\n",
    "\n",
    "    rows = cur.fetchall()\n",
    "\n",
    "    for row in rows:\n",
    "        print(row)\n",
    "\n",
    "except Exception as e:\n",
    "    print(\"Exeception occured:{}\".format(e))\n",
    "\n",
    "# finally:\n",
    "#     connect.close()"
   ]
  },
  {
   "cell_type": "markdown",
   "id": "97ce2a34",
   "metadata": {},
   "source": [
    "##### Data 입력"
   ]
  },
  {
   "cell_type": "code",
   "execution_count": 30,
   "id": "4b18e234",
   "metadata": {},
   "outputs": [
    {
     "data": {
      "text/plain": [
       "array([['서울', 76814, 569],\n",
       "       ['경기', 68671, 513],\n",
       "       ['대구', 13287, 95],\n",
       "       ['인천', 11406, 102],\n",
       "       ['부산', 11077, 78],\n",
       "       ['경남', 9683, 68],\n",
       "       ['경북', 6866, 64],\n",
       "       ['충남', 6639, 92],\n",
       "       ['검역', 5761, 23],\n",
       "       ['대전', 5463, 50],\n",
       "       ['강원', 5268, 26],\n",
       "       ['충북', 4991, 38],\n",
       "       ['울산', 4037, 40],\n",
       "       ['광주', 3948, 28],\n",
       "       ['전북', 3441, 45],\n",
       "       ['제주', 2524, 30],\n",
       "       ['전남', 2487, 8],\n",
       "       ['세종', 954, 10]], dtype=object)"
      ]
     },
     "execution_count": 30,
     "metadata": {},
     "output_type": "execute_result"
    }
   ],
   "source": [
    "covid_status = pd.read_excel('./covid19_area.xlsx',header = 0, usecols = 'A:C')\n",
    "covid_status.values"
   ]
  },
  {
   "cell_type": "code",
   "execution_count": 31,
   "id": "a5d5ffad",
   "metadata": {},
   "outputs": [],
   "source": [
    "try:\n",
    "    cur = connect.cursor()          \n",
    "    for row in covid_status.values:\n",
    "        ins = \"INSERT INTO covid19 VALUES ('{}', {}, {})\"\n",
    "        cur.execute(\"USE projectDB\")\n",
    "        cur.execute(\"SELECT * FROM covid19\")\n",
    "        cur.execute(ins.format(*row))\n",
    "\n",
    "        connect.commit()\n",
    "\n",
    "\n",
    "except Exception as e:\n",
    "    print(\"Exeception occured:{}\".format(e))\n"
   ]
  },
  {
   "cell_type": "markdown",
   "id": "0e945f75",
   "metadata": {},
   "source": [
    "##### (2) 최근 7일간 국내발생 및 해외유입 코로나 신규확진자수 "
   ]
  },
  {
   "cell_type": "markdown",
   "id": "f919ce73",
   "metadata": {},
   "source": [
    "##### TABLE 생성"
   ]
  },
  {
   "cell_type": "code",
   "execution_count": 32,
   "id": "7401dac4",
   "metadata": {},
   "outputs": [
    {
     "name": "stdout",
     "output_type": "stream",
     "text": [
      "{'Tables_in_projectdb': 'covid19'}\n",
      "{'Tables_in_projectdb': 'covid19_2'}\n"
     ]
    }
   ],
   "source": [
    "try:\n",
    "    \n",
    "    cur = connect.cursor() \n",
    "    cur.execute(\"USE projectDB\")\n",
    "    cur.execute(\"DROP TABLE IF EXISTS covid19_2\")\n",
    "    cur.execute(\"CREATE TABLE IF NOT EXISTS covid19_2(city VARCHAR(10), acc_num INT, new_num INT)\")\n",
    "    cur.execute(\"SHOW TABLES\")\n",
    "\n",
    "    rows = cur.fetchall()\n",
    "\n",
    "    for row in rows:\n",
    "        print(row)\n",
    "\n",
    "except Exception as e:\n",
    "    print(\"Exeception occured:{}\".format(e))\n",
    "  "
   ]
  },
  {
   "cell_type": "code",
   "execution_count": 33,
   "id": "5d2d1642",
   "metadata": {},
   "outputs": [],
   "source": [
    "connect.close()"
   ]
  },
  {
   "cell_type": "markdown",
   "id": "fd2a17c9",
   "metadata": {},
   "source": [
    "##### Data 입력"
   ]
  },
  {
   "cell_type": "code",
   "execution_count": null,
   "id": "a2d31fbf",
   "metadata": {},
   "outputs": [],
   "source": []
  },
  {
   "cell_type": "markdown",
   "id": "075b727e",
   "metadata": {},
   "source": [
    "#  3. 데이터분석및시각화"
   ]
  },
  {
   "cell_type": "markdown",
   "id": "5f9d626d",
   "metadata": {},
   "source": [
    "##### (1) 당일 지역별 코로나 누적확진자수 및 신규확진자수"
   ]
  },
  {
   "cell_type": "markdown",
   "id": "9313e753",
   "metadata": {},
   "source": [
    "##### Data 불러오기"
   ]
  },
  {
   "cell_type": "code",
   "execution_count": 34,
   "id": "ad16de87",
   "metadata": {},
   "outputs": [
    {
     "data": {
      "text/html": [
       "<div>\n",
       "<style scoped>\n",
       "    .dataframe tbody tr th:only-of-type {\n",
       "        vertical-align: middle;\n",
       "    }\n",
       "\n",
       "    .dataframe tbody tr th {\n",
       "        vertical-align: top;\n",
       "    }\n",
       "\n",
       "    .dataframe thead th {\n",
       "        text-align: right;\n",
       "    }\n",
       "</style>\n",
       "<table border=\"1\" class=\"dataframe\">\n",
       "  <thead>\n",
       "    <tr style=\"text-align: right;\">\n",
       "      <th></th>\n",
       "      <th>지역</th>\n",
       "      <th>누적확진자</th>\n",
       "      <th>신규확진자</th>\n",
       "    </tr>\n",
       "  </thead>\n",
       "  <tbody>\n",
       "    <tr>\n",
       "      <th>0</th>\n",
       "      <td>서울</td>\n",
       "      <td>76814</td>\n",
       "      <td>569</td>\n",
       "    </tr>\n",
       "    <tr>\n",
       "      <th>1</th>\n",
       "      <td>경기</td>\n",
       "      <td>68671</td>\n",
       "      <td>513</td>\n",
       "    </tr>\n",
       "    <tr>\n",
       "      <th>2</th>\n",
       "      <td>대구</td>\n",
       "      <td>13287</td>\n",
       "      <td>95</td>\n",
       "    </tr>\n",
       "    <tr>\n",
       "      <th>3</th>\n",
       "      <td>인천</td>\n",
       "      <td>11406</td>\n",
       "      <td>102</td>\n",
       "    </tr>\n",
       "    <tr>\n",
       "      <th>4</th>\n",
       "      <td>부산</td>\n",
       "      <td>11077</td>\n",
       "      <td>78</td>\n",
       "    </tr>\n",
       "    <tr>\n",
       "      <th>5</th>\n",
       "      <td>경남</td>\n",
       "      <td>9683</td>\n",
       "      <td>68</td>\n",
       "    </tr>\n",
       "    <tr>\n",
       "      <th>6</th>\n",
       "      <td>경북</td>\n",
       "      <td>6866</td>\n",
       "      <td>64</td>\n",
       "    </tr>\n",
       "    <tr>\n",
       "      <th>7</th>\n",
       "      <td>충남</td>\n",
       "      <td>6639</td>\n",
       "      <td>92</td>\n",
       "    </tr>\n",
       "    <tr>\n",
       "      <th>8</th>\n",
       "      <td>검역</td>\n",
       "      <td>5761</td>\n",
       "      <td>23</td>\n",
       "    </tr>\n",
       "    <tr>\n",
       "      <th>9</th>\n",
       "      <td>대전</td>\n",
       "      <td>5463</td>\n",
       "      <td>50</td>\n",
       "    </tr>\n",
       "    <tr>\n",
       "      <th>10</th>\n",
       "      <td>강원</td>\n",
       "      <td>5268</td>\n",
       "      <td>26</td>\n",
       "    </tr>\n",
       "    <tr>\n",
       "      <th>11</th>\n",
       "      <td>충북</td>\n",
       "      <td>4991</td>\n",
       "      <td>38</td>\n",
       "    </tr>\n",
       "    <tr>\n",
       "      <th>12</th>\n",
       "      <td>울산</td>\n",
       "      <td>4037</td>\n",
       "      <td>40</td>\n",
       "    </tr>\n",
       "    <tr>\n",
       "      <th>13</th>\n",
       "      <td>광주</td>\n",
       "      <td>3948</td>\n",
       "      <td>28</td>\n",
       "    </tr>\n",
       "    <tr>\n",
       "      <th>14</th>\n",
       "      <td>전북</td>\n",
       "      <td>3441</td>\n",
       "      <td>45</td>\n",
       "    </tr>\n",
       "    <tr>\n",
       "      <th>15</th>\n",
       "      <td>제주</td>\n",
       "      <td>2524</td>\n",
       "      <td>30</td>\n",
       "    </tr>\n",
       "    <tr>\n",
       "      <th>16</th>\n",
       "      <td>전남</td>\n",
       "      <td>2487</td>\n",
       "      <td>8</td>\n",
       "    </tr>\n",
       "    <tr>\n",
       "      <th>17</th>\n",
       "      <td>세종</td>\n",
       "      <td>954</td>\n",
       "      <td>10</td>\n",
       "    </tr>\n",
       "  </tbody>\n",
       "</table>\n",
       "</div>"
      ],
      "text/plain": [
       "    지역  누적확진자  신규확진자\n",
       "0   서울  76814    569\n",
       "1   경기  68671    513\n",
       "2   대구  13287     95\n",
       "3   인천  11406    102\n",
       "4   부산  11077     78\n",
       "5   경남   9683     68\n",
       "6   경북   6866     64\n",
       "7   충남   6639     92\n",
       "8   검역   5761     23\n",
       "9   대전   5463     50\n",
       "10  강원   5268     26\n",
       "11  충북   4991     38\n",
       "12  울산   4037     40\n",
       "13  광주   3948     28\n",
       "14  전북   3441     45\n",
       "15  제주   2524     30\n",
       "16  전남   2487      8\n",
       "17  세종    954     10"
      ]
     },
     "execution_count": 34,
     "metadata": {},
     "output_type": "execute_result"
    }
   ],
   "source": [
    "conn = pymysql.connect(host='127.0.0.1', user='root', password='1234',db= 'projectDB', charset='utf8')\n",
    "cur = conn.cursor()\n",
    "cur.execute(\"SELECT * FROM covid19\")\n",
    "data_tuple = cur.fetchall()\n",
    "df_area = pd.DataFrame(data_tuple, columns = [\"지역\", \"누적확진자\", \"신규확진자\"])\n",
    "df_area"
   ]
  },
  {
   "cell_type": "markdown",
   "id": "9f8bb42c",
   "metadata": {},
   "source": [
    "##### 시각화"
   ]
  },
  {
   "cell_type": "raw",
   "id": "45de2794",
   "metadata": {},
   "source": []
  },
  {
   "cell_type": "markdown",
   "id": "a692d214",
   "metadata": {},
   "source": [
    "##### (2) 최근 7일간 국내발생 및 해외유입 코로나 신규확진자수 "
   ]
  },
  {
   "cell_type": "markdown",
   "id": "57a6cb12",
   "metadata": {},
   "source": [
    "##### Data 불러오기"
   ]
  },
  {
   "cell_type": "code",
   "execution_count": null,
   "id": "22c4a835",
   "metadata": {},
   "outputs": [],
   "source": [
    "data1, data2 == \"\",\"\"\n",
    "row=None\n",
    "\n",
    "conn = pymysql.connect(host='127.0.0.1', user='root', password='1234',db= 'projectDB', charset='utf8')\n",
    "cur = conn.cursor()\n",
    "\n",
    "cur.execute(\"SELECT * FROM covid19_2\")\n",
    "\n",
    "print(\"LABEL-1\\t\\tLABEL-2\")\n",
    "\n",
    "while 1:\n",
    "    row = cur.fetchone()\n",
    "    if row == None:\n",
    "        break\n",
    "    data1 = row[0]\n",
    "    data2 = row[1]\n",
    "    \n",
    "ex =[]\n",
    "    ex += [row[0], row[1]\n",
    "    \n",
    "    print(\"{}\\t\\t{}\".format(data1, data2))\n",
    "print(ex)\n",
    "    "
   ]
  },
  {
   "cell_type": "markdown",
   "id": "905bf8eb",
   "metadata": {},
   "source": [
    "##### 시각화"
   ]
  },
  {
   "cell_type": "code",
   "execution_count": null,
   "id": "b509f79e",
   "metadata": {},
   "outputs": [],
   "source": [
    "import pandas as pd\n",
    "import matplotlib.pyplot as plt"
   ]
  },
  {
   "cell_type": "code",
   "execution_count": null,
   "id": "8aa2160a",
   "metadata": {},
   "outputs": [],
   "source": [
    "from matplotlib import font_manager, rc\n",
    "import platform\n",
    "if platform.system() == 'Windows':\n",
    "    path = 'c:/Windows/Fonts/malgun.ttf'\n",
    "    font_name = font_manager.FontProperties(fname = path).get_name()\n",
    "    rc('font', family = font_name)\n",
    "elif platform.system() == 'Darwin':\n",
    "    rc('font', family = 'AppleGothic')\n",
    "else:\n",
    "    print('Check your OS system')"
   ]
  },
  {
   "cell_type": "code",
   "execution_count": null,
   "id": "5b8d44bb",
   "metadata": {},
   "outputs": [],
   "source": [
    "df = pd.read_excel('./covid19_7days.xlsx')\n",
    "df.head()"
   ]
  },
  {
   "cell_type": "code",
   "execution_count": null,
   "id": "7b0cd3ef",
   "metadata": {},
   "outputs": [],
   "source": [
    "df.tail()"
   ]
  },
  {
   "cell_type": "code",
   "execution_count": null,
   "id": "47e18e20",
   "metadata": {},
   "outputs": [],
   "source": [
    "df.info()"
   ]
  },
  {
   "cell_type": "code",
   "execution_count": null,
   "id": "18efe19f",
   "metadata": {},
   "outputs": [],
   "source": [
    "df['LABEL-1'] = df['LABEL-2']\n",
    "df.head()"
   ]
  },
  {
   "cell_type": "code",
   "execution_count": null,
   "id": "06267c78",
   "metadata": {},
   "outputs": [],
   "source": [
    "plt.figure(figsize = (0, 4))"
   ]
  }
 ],
 "metadata": {
  "kernelspec": {
   "display_name": "Python 3 (ipykernel)",
   "language": "python",
   "name": "python3"
  },
  "language_info": {
   "codemirror_mode": {
    "name": "ipython",
    "version": 3
   },
   "file_extension": ".py",
   "mimetype": "text/x-python",
   "name": "python",
   "nbconvert_exporter": "python",
   "pygments_lexer": "ipython3",
   "version": "3.9.6"
  }
 },
 "nbformat": 4,
 "nbformat_minor": 5
}
